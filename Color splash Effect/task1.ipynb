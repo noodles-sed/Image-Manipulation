{
 "cells": [
  {
   "cell_type": "code",
   "execution_count": null,
   "id": "8d198740",
   "metadata": {
    "vscode": {
     "languageId": "plaintext"
    }
   },
   "outputs": [],
   "source": [
    "# Color Splash Effect - Keep one color, make the rest grayscale\n",
    "\n",
    "import cv2\n",
    "import numpy as np\n",
    "from matplotlib import pyplot as plt\n",
    "\n",
    "# --- Step 1: Read the image keep image in same directory---\n",
    "img = cv2.imread('images.jpg')  # your image file\n",
    "if img is None:\n",
    "    raise FileNotFoundError(\"Image not found. Make sure 'images.jpg' is in the same folder as this notebook.\")\n",
    "\n",
    "# Convert from BGR (OpenCV default) to RGB (for display)\n",
    "img_rgb = cv2.cvtColor(img, cv2.COLOR_BGR2RGB)\n",
    "\n",
    "# --- Step 2: Convert to HSV color space ---\n",
    "hsv = cv2.cvtColor(img, cv2.COLOR_BGR2HSV)\n",
    "\n",
    "# --- Step 3: Define the color range to keep (example: RED) ---\n",
    "# Red actually spans across 0° and 180° in HSV, so we take two ranges\n",
    "lower_red1 = np.array([0, 100, 100])\n",
    "upper_red1 = np.array([10, 255, 255])\n",
    "lower_red2 = np.array([160, 100, 100])\n",
    "upper_red2 = np.array([180, 255, 255])\n",
    "\n",
    "# Create masks for red color\n",
    "mask1 = cv2.inRange(hsv, lower_red1, upper_red1)\n",
    "mask2 = cv2.inRange(hsv, lower_red2, upper_red2)\n",
    "mask = cv2.bitwise_or(mask1, mask2)\n",
    "\n",
    "# --- Step 4: Convert image to grayscale ---\n",
    "gray = cv2.cvtColor(img, cv2.COLOR_BGR2GRAY)\n",
    "\n",
    "# Convert grayscale to 3-channel to merge easily with color\n",
    "gray_3ch = cv2.cvtColor(gray, cv2.COLOR_GRAY2BGR)\n",
    "\n",
    "# --- Step 5: Combine color + grayscale using mask ---\n",
    "color_part = cv2.bitwise_and(img, img, mask=mask)\n",
    "gray_part = cv2.bitwise_and(gray_3ch, gray_3ch, mask=cv2.bitwise_not(mask))\n",
    "final = cv2.add(color_part, gray_part)\n",
    "\n",
    "# Convert final image to RGB for displaying in matplotlib\n",
    "final_rgb = cv2.cvtColor(final, cv2.COLOR_BGR2RGB)\n",
    "\n",
    "# --- Step 6: Show all steps ---\n",
    "plt.figure(figsize=(15, 8))\n",
    "\n",
    "plt.subplot(1, 3, 1)\n",
    "plt.title('Original Image')\n",
    "plt.imshow(img_rgb)\n",
    "plt.axis('off')\n",
    "\n",
    "plt.subplot(1, 3, 2)\n",
    "plt.title('Red Color Mask')\n",
    "plt.imshow(mask, cmap='gray')\n",
    "plt.axis('off')\n",
    "\n",
    "plt.subplot(1, 3, 3)\n",
    "plt.title('Color Splash Effect (Red Only)')\n",
    "plt.imshow(final_rgb)\n",
    "plt.axis('off')\n",
    "\n",
    "plt.show()\n"
   ]
  }
 ],
 "metadata": {
  "language_info": {
   "name": "python"
  }
 },
 "nbformat": 4,
 "nbformat_minor": 5
}
